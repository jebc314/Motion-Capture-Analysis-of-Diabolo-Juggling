{
 "cells": [
  {
   "cell_type": "code",
   "execution_count": 2,
   "metadata": {},
   "outputs": [],
   "source": [
    "import math\n",
    "import matplotlib.pyplot as plt\n",
    "import numpy as np\n",
    "import pandas as pd\n",
    "import sklearn\n",
    "import vectormath as vmath\n",
    "\n",
    "from pyquaternion import Quaternion\n",
    "from scipy.signal import savgol_filter"
   ]
  },
  {
   "cell_type": "code",
   "execution_count": 3,
   "metadata": {},
   "outputs": [],
   "source": [
    "df_full = pd.read_csv('../my_data_processing/20220302Full-tilt/data/20220302Full-tilt-quaternion.csv')\n",
    "df = df_full.iloc[15000:34400,:]"
   ]
  },
  {
   "cell_type": "code",
   "execution_count": 4,
   "metadata": {},
   "outputs": [
    {
     "data": {
      "text/html": [
       "<div>\n",
       "<style scoped>\n",
       "    .dataframe tbody tr th:only-of-type {\n",
       "        vertical-align: middle;\n",
       "    }\n",
       "\n",
       "    .dataframe tbody tr th {\n",
       "        vertical-align: top;\n",
       "    }\n",
       "\n",
       "    .dataframe thead th {\n",
       "        text-align: right;\n",
       "    }\n",
       "</style>\n",
       "<table border=\"1\" class=\"dataframe\">\n",
       "  <thead>\n",
       "    <tr style=\"text-align: right;\">\n",
       "      <th></th>\n",
       "      <th>Frame</th>\n",
       "      <th>Sub Frame</th>\n",
       "      <th>Diabolo-RX</th>\n",
       "      <th>Diabolo-RY</th>\n",
       "      <th>Diabolo-RZ</th>\n",
       "      <th>Diabolo-RW</th>\n",
       "      <th>Diabolo-TX</th>\n",
       "      <th>Diabolo-TY</th>\n",
       "      <th>Diabolo-TZ</th>\n",
       "      <th>stick_left-RX</th>\n",
       "      <th>...</th>\n",
       "      <th>stick_left-TX</th>\n",
       "      <th>stick_left-TY</th>\n",
       "      <th>stick_left-TZ</th>\n",
       "      <th>stick_right-RX</th>\n",
       "      <th>stick_right-RY</th>\n",
       "      <th>stick_right-RZ</th>\n",
       "      <th>stick_right-RW</th>\n",
       "      <th>stick_right-TX</th>\n",
       "      <th>stick_right-TY</th>\n",
       "      <th>stick_right-TZ</th>\n",
       "    </tr>\n",
       "  </thead>\n",
       "  <tbody>\n",
       "    <tr>\n",
       "      <th>15000</th>\n",
       "      <td>15001</td>\n",
       "      <td>0</td>\n",
       "      <td>0.514905</td>\n",
       "      <td>0.478440</td>\n",
       "      <td>0.019596</td>\n",
       "      <td>0.711044</td>\n",
       "      <td>-309.946259</td>\n",
       "      <td>751.387329</td>\n",
       "      <td>495.335480</td>\n",
       "      <td>-0.010195</td>\n",
       "      <td>...</td>\n",
       "      <td>-413.098358</td>\n",
       "      <td>701.136963</td>\n",
       "      <td>979.300659</td>\n",
       "      <td>-0.485218</td>\n",
       "      <td>0.006275</td>\n",
       "      <td>0.192512</td>\n",
       "      <td>0.852915</td>\n",
       "      <td>-205.159988</td>\n",
       "      <td>724.131287</td>\n",
       "      <td>1470.387329</td>\n",
       "    </tr>\n",
       "    <tr>\n",
       "      <th>15001</th>\n",
       "      <td>15002</td>\n",
       "      <td>0</td>\n",
       "      <td>0.591665</td>\n",
       "      <td>0.423565</td>\n",
       "      <td>0.138819</td>\n",
       "      <td>0.671755</td>\n",
       "      <td>-314.118774</td>\n",
       "      <td>749.735596</td>\n",
       "      <td>502.981079</td>\n",
       "      <td>-0.011622</td>\n",
       "      <td>...</td>\n",
       "      <td>-412.917236</td>\n",
       "      <td>701.273560</td>\n",
       "      <td>979.119202</td>\n",
       "      <td>-0.478580</td>\n",
       "      <td>0.004912</td>\n",
       "      <td>0.192200</td>\n",
       "      <td>0.856736</td>\n",
       "      <td>-204.208817</td>\n",
       "      <td>722.109375</td>\n",
       "      <td>1474.996582</td>\n",
       "    </tr>\n",
       "    <tr>\n",
       "      <th>15002</th>\n",
       "      <td>15003</td>\n",
       "      <td>0</td>\n",
       "      <td>0.640854</td>\n",
       "      <td>0.326704</td>\n",
       "      <td>0.229940</td>\n",
       "      <td>0.655513</td>\n",
       "      <td>-312.205048</td>\n",
       "      <td>750.657776</td>\n",
       "      <td>502.632751</td>\n",
       "      <td>-0.012204</td>\n",
       "      <td>...</td>\n",
       "      <td>-412.461884</td>\n",
       "      <td>701.279175</td>\n",
       "      <td>979.262512</td>\n",
       "      <td>-0.474369</td>\n",
       "      <td>0.002747</td>\n",
       "      <td>0.189243</td>\n",
       "      <td>0.859740</td>\n",
       "      <td>-203.175751</td>\n",
       "      <td>720.458862</td>\n",
       "      <td>1478.932495</td>\n",
       "    </tr>\n",
       "    <tr>\n",
       "      <th>15003</th>\n",
       "      <td>15004</td>\n",
       "      <td>0</td>\n",
       "      <td>0.684189</td>\n",
       "      <td>0.238915</td>\n",
       "      <td>0.326892</td>\n",
       "      <td>0.606586</td>\n",
       "      <td>-313.746826</td>\n",
       "      <td>750.540161</td>\n",
       "      <td>506.090576</td>\n",
       "      <td>-0.011857</td>\n",
       "      <td>...</td>\n",
       "      <td>-411.785156</td>\n",
       "      <td>701.385559</td>\n",
       "      <td>979.362183</td>\n",
       "      <td>-0.470440</td>\n",
       "      <td>0.001507</td>\n",
       "      <td>0.191231</td>\n",
       "      <td>0.861461</td>\n",
       "      <td>-202.593079</td>\n",
       "      <td>718.882385</td>\n",
       "      <td>1482.612183</td>\n",
       "    </tr>\n",
       "    <tr>\n",
       "      <th>15004</th>\n",
       "      <td>15005</td>\n",
       "      <td>0</td>\n",
       "      <td>NaN</td>\n",
       "      <td>NaN</td>\n",
       "      <td>NaN</td>\n",
       "      <td>NaN</td>\n",
       "      <td>NaN</td>\n",
       "      <td>NaN</td>\n",
       "      <td>NaN</td>\n",
       "      <td>-0.012356</td>\n",
       "      <td>...</td>\n",
       "      <td>-411.321777</td>\n",
       "      <td>701.383789</td>\n",
       "      <td>979.511719</td>\n",
       "      <td>-0.465965</td>\n",
       "      <td>-0.001075</td>\n",
       "      <td>0.189856</td>\n",
       "      <td>0.864194</td>\n",
       "      <td>-201.814835</td>\n",
       "      <td>717.071594</td>\n",
       "      <td>1486.516846</td>\n",
       "    </tr>\n",
       "    <tr>\n",
       "      <th>...</th>\n",
       "      <td>...</td>\n",
       "      <td>...</td>\n",
       "      <td>...</td>\n",
       "      <td>...</td>\n",
       "      <td>...</td>\n",
       "      <td>...</td>\n",
       "      <td>...</td>\n",
       "      <td>...</td>\n",
       "      <td>...</td>\n",
       "      <td>...</td>\n",
       "      <td>...</td>\n",
       "      <td>...</td>\n",
       "      <td>...</td>\n",
       "      <td>...</td>\n",
       "      <td>...</td>\n",
       "      <td>...</td>\n",
       "      <td>...</td>\n",
       "      <td>...</td>\n",
       "      <td>...</td>\n",
       "      <td>...</td>\n",
       "      <td>...</td>\n",
       "    </tr>\n",
       "    <tr>\n",
       "      <th>34395</th>\n",
       "      <td>34396</td>\n",
       "      <td>0</td>\n",
       "      <td>0.197587</td>\n",
       "      <td>-0.703052</td>\n",
       "      <td>-0.603478</td>\n",
       "      <td>-0.320143</td>\n",
       "      <td>-407.446472</td>\n",
       "      <td>186.596863</td>\n",
       "      <td>493.113586</td>\n",
       "      <td>-0.700523</td>\n",
       "      <td>...</td>\n",
       "      <td>-389.239838</td>\n",
       "      <td>56.891495</td>\n",
       "      <td>1133.772705</td>\n",
       "      <td>-0.314424</td>\n",
       "      <td>-0.420691</td>\n",
       "      <td>0.839833</td>\n",
       "      <td>0.137247</td>\n",
       "      <td>-431.495911</td>\n",
       "      <td>375.488495</td>\n",
       "      <td>1329.685059</td>\n",
       "    </tr>\n",
       "    <tr>\n",
       "      <th>34396</th>\n",
       "      <td>34397</td>\n",
       "      <td>0</td>\n",
       "      <td>0.122767</td>\n",
       "      <td>-0.722751</td>\n",
       "      <td>-0.629280</td>\n",
       "      <td>-0.258002</td>\n",
       "      <td>-408.207001</td>\n",
       "      <td>186.765762</td>\n",
       "      <td>493.592743</td>\n",
       "      <td>-0.701106</td>\n",
       "      <td>...</td>\n",
       "      <td>-389.313812</td>\n",
       "      <td>56.811768</td>\n",
       "      <td>1133.612183</td>\n",
       "      <td>-0.314331</td>\n",
       "      <td>-0.420341</td>\n",
       "      <td>0.840032</td>\n",
       "      <td>0.137319</td>\n",
       "      <td>-431.592651</td>\n",
       "      <td>375.548828</td>\n",
       "      <td>1329.756592</td>\n",
       "    </tr>\n",
       "    <tr>\n",
       "      <th>34397</th>\n",
       "      <td>34398</td>\n",
       "      <td>0</td>\n",
       "      <td>0.070240</td>\n",
       "      <td>-0.735972</td>\n",
       "      <td>-0.648717</td>\n",
       "      <td>-0.180497</td>\n",
       "      <td>-404.741028</td>\n",
       "      <td>185.131042</td>\n",
       "      <td>494.495422</td>\n",
       "      <td>-0.700388</td>\n",
       "      <td>...</td>\n",
       "      <td>-389.434570</td>\n",
       "      <td>56.930820</td>\n",
       "      <td>1133.862183</td>\n",
       "      <td>-0.314104</td>\n",
       "      <td>-0.419868</td>\n",
       "      <td>0.840312</td>\n",
       "      <td>0.137570</td>\n",
       "      <td>-431.653778</td>\n",
       "      <td>375.639740</td>\n",
       "      <td>1329.849365</td>\n",
       "    </tr>\n",
       "    <tr>\n",
       "      <th>34398</th>\n",
       "      <td>34399</td>\n",
       "      <td>0</td>\n",
       "      <td>-0.004227</td>\n",
       "      <td>-0.736429</td>\n",
       "      <td>-0.665551</td>\n",
       "      <td>-0.121227</td>\n",
       "      <td>-405.792023</td>\n",
       "      <td>185.426010</td>\n",
       "      <td>493.491272</td>\n",
       "      <td>-0.700886</td>\n",
       "      <td>...</td>\n",
       "      <td>-389.441284</td>\n",
       "      <td>56.830509</td>\n",
       "      <td>1133.750610</td>\n",
       "      <td>-0.314425</td>\n",
       "      <td>-0.419944</td>\n",
       "      <td>0.840174</td>\n",
       "      <td>0.137450</td>\n",
       "      <td>-431.802490</td>\n",
       "      <td>375.645477</td>\n",
       "      <td>1329.760986</td>\n",
       "    </tr>\n",
       "    <tr>\n",
       "      <th>34399</th>\n",
       "      <td>34400</td>\n",
       "      <td>0</td>\n",
       "      <td>-0.075581</td>\n",
       "      <td>-0.730386</td>\n",
       "      <td>-0.676228</td>\n",
       "      <td>-0.059505</td>\n",
       "      <td>-406.700562</td>\n",
       "      <td>185.561050</td>\n",
       "      <td>492.736664</td>\n",
       "      <td>-0.700739</td>\n",
       "      <td>...</td>\n",
       "      <td>-387.968475</td>\n",
       "      <td>55.897011</td>\n",
       "      <td>1133.670288</td>\n",
       "      <td>-0.314469</td>\n",
       "      <td>-0.420176</td>\n",
       "      <td>0.840051</td>\n",
       "      <td>0.137388</td>\n",
       "      <td>-431.835419</td>\n",
       "      <td>375.564056</td>\n",
       "      <td>1329.615845</td>\n",
       "    </tr>\n",
       "  </tbody>\n",
       "</table>\n",
       "<p>19400 rows × 23 columns</p>\n",
       "</div>"
      ],
      "text/plain": [
       "       Frame  Sub Frame  Diabolo-RX  Diabolo-RY  Diabolo-RZ  Diabolo-RW  \\\n",
       "15000  15001          0    0.514905    0.478440    0.019596    0.711044   \n",
       "15001  15002          0    0.591665    0.423565    0.138819    0.671755   \n",
       "15002  15003          0    0.640854    0.326704    0.229940    0.655513   \n",
       "15003  15004          0    0.684189    0.238915    0.326892    0.606586   \n",
       "15004  15005          0         NaN         NaN         NaN         NaN   \n",
       "...      ...        ...         ...         ...         ...         ...   \n",
       "34395  34396          0    0.197587   -0.703052   -0.603478   -0.320143   \n",
       "34396  34397          0    0.122767   -0.722751   -0.629280   -0.258002   \n",
       "34397  34398          0    0.070240   -0.735972   -0.648717   -0.180497   \n",
       "34398  34399          0   -0.004227   -0.736429   -0.665551   -0.121227   \n",
       "34399  34400          0   -0.075581   -0.730386   -0.676228   -0.059505   \n",
       "\n",
       "       Diabolo-TX  Diabolo-TY  Diabolo-TZ  stick_left-RX  ...  stick_left-TX  \\\n",
       "15000 -309.946259  751.387329  495.335480      -0.010195  ...    -413.098358   \n",
       "15001 -314.118774  749.735596  502.981079      -0.011622  ...    -412.917236   \n",
       "15002 -312.205048  750.657776  502.632751      -0.012204  ...    -412.461884   \n",
       "15003 -313.746826  750.540161  506.090576      -0.011857  ...    -411.785156   \n",
       "15004         NaN         NaN         NaN      -0.012356  ...    -411.321777   \n",
       "...           ...         ...         ...            ...  ...            ...   \n",
       "34395 -407.446472  186.596863  493.113586      -0.700523  ...    -389.239838   \n",
       "34396 -408.207001  186.765762  493.592743      -0.701106  ...    -389.313812   \n",
       "34397 -404.741028  185.131042  494.495422      -0.700388  ...    -389.434570   \n",
       "34398 -405.792023  185.426010  493.491272      -0.700886  ...    -389.441284   \n",
       "34399 -406.700562  185.561050  492.736664      -0.700739  ...    -387.968475   \n",
       "\n",
       "       stick_left-TY  stick_left-TZ  stick_right-RX  stick_right-RY  \\\n",
       "15000     701.136963     979.300659       -0.485218        0.006275   \n",
       "15001     701.273560     979.119202       -0.478580        0.004912   \n",
       "15002     701.279175     979.262512       -0.474369        0.002747   \n",
       "15003     701.385559     979.362183       -0.470440        0.001507   \n",
       "15004     701.383789     979.511719       -0.465965       -0.001075   \n",
       "...              ...            ...             ...             ...   \n",
       "34395      56.891495    1133.772705       -0.314424       -0.420691   \n",
       "34396      56.811768    1133.612183       -0.314331       -0.420341   \n",
       "34397      56.930820    1133.862183       -0.314104       -0.419868   \n",
       "34398      56.830509    1133.750610       -0.314425       -0.419944   \n",
       "34399      55.897011    1133.670288       -0.314469       -0.420176   \n",
       "\n",
       "       stick_right-RZ  stick_right-RW  stick_right-TX  stick_right-TY  \\\n",
       "15000        0.192512        0.852915     -205.159988      724.131287   \n",
       "15001        0.192200        0.856736     -204.208817      722.109375   \n",
       "15002        0.189243        0.859740     -203.175751      720.458862   \n",
       "15003        0.191231        0.861461     -202.593079      718.882385   \n",
       "15004        0.189856        0.864194     -201.814835      717.071594   \n",
       "...               ...             ...             ...             ...   \n",
       "34395        0.839833        0.137247     -431.495911      375.488495   \n",
       "34396        0.840032        0.137319     -431.592651      375.548828   \n",
       "34397        0.840312        0.137570     -431.653778      375.639740   \n",
       "34398        0.840174        0.137450     -431.802490      375.645477   \n",
       "34399        0.840051        0.137388     -431.835419      375.564056   \n",
       "\n",
       "       stick_right-TZ  \n",
       "15000     1470.387329  \n",
       "15001     1474.996582  \n",
       "15002     1478.932495  \n",
       "15003     1482.612183  \n",
       "15004     1486.516846  \n",
       "...               ...  \n",
       "34395     1329.685059  \n",
       "34396     1329.756592  \n",
       "34397     1329.849365  \n",
       "34398     1329.760986  \n",
       "34399     1329.615845  \n",
       "\n",
       "[19400 rows x 23 columns]"
      ]
     },
     "execution_count": 4,
     "metadata": {},
     "output_type": "execute_result"
    }
   ],
   "source": [
    "df"
   ]
  },
  {
   "cell_type": "code",
   "execution_count": 5,
   "metadata": {},
   "outputs": [
    {
     "name": "stdout",
     "output_type": "stream",
     "text": [
      "oops\n",
      "oops\n"
     ]
    },
    {
     "name": "stderr",
     "output_type": "stream",
     "text": [
      "C:\\Users\\Public\\Documents\\Wondershare\\CreatorTemp/ipykernel_2708/601471971.py:4: SettingWithCopyWarning: \n",
      "A value is trying to be set on a copy of a slice from a DataFrame.\n",
      "Try using .loc[row_indexer,col_indexer] = value instead\n",
      "\n",
      "See the caveats in the documentation: https://pandas.pydata.org/pandas-docs/stable/user_guide/indexing.html#returning-a-view-versus-a-copy\n",
      "  df[column] = df[column]/1000\n"
     ]
    }
   ],
   "source": [
    "for column in df.columns:\n",
    "    try:\n",
    "        if column.split('-')[1][0] == 'T':\n",
    "            df[column] = df[column]/1000\n",
    "    except:\n",
    "        print('oops')"
   ]
  },
  {
   "cell_type": "code",
   "execution_count": 6,
   "metadata": {},
   "outputs": [
    {
     "data": {
      "text/plain": [
       "'\\nSteps:\\n1. Get predictions of position and angular speed from Drigalski et al.\\n2. Predict pitch based on stick offset and angular speed\\n3. Get difference between predicted and actual (class value)\\n4. Create the training and testing datasets\\n5. Preprocess like I would for other ML datasets\\n'"
      ]
     },
     "execution_count": 6,
     "metadata": {},
     "output_type": "execute_result"
    }
   ],
   "source": [
    "'''\n",
    "Steps:\n",
    "1. Get predictions of position and angular speed from Drigalski et al.\n",
    "2. Predict pitch based on stick offset and angular speed\n",
    "3. Get difference between predicted and actual (class value)\n",
    "4. Create the training and testing datasets\n",
    "5. Preprocess like I would for other ML datasets\n",
    "'''"
   ]
  },
  {
   "cell_type": "code",
   "execution_count": 7,
   "metadata": {},
   "outputs": [],
   "source": [
    "# 1. Get predictions of position and angular speed from Drigalski et al.\n",
    "# import library?\n",
    "from diabolo_motion_classes import *"
   ]
  },
  {
   "cell_type": "code",
   "execution_count": 8,
   "metadata": {},
   "outputs": [
    {
     "name": "stdout",
     "output_type": "stream",
     "text": [
      "['+0.711 +0.515i +0.478j +0.020k [-0.30994626  0.75138733  0.49533548]', '-0.067 -0.010i +0.773j +0.631k [-0.41309836  0.70113696  0.97930066]', '+0.853 -0.485i +0.006j +0.193k [-0.20515999  0.72413129  1.47038733]'] 58.010031855847146 [0. 0. 0.] 0.13 0.07 0.13 0.9999 0.0016666666666666668 False 0.2 0.0065 1.58 data.csv\n"
     ]
    }
   ],
   "source": [
    "# starting values\n",
    "# Diabolo-RX,Diabolo-RY,Diabolo-RZ,Diabolo-RW,Diabolo-TX,Diabolo-TY,Diabolo-TZ,\n",
    "# stick_left-RX,stick_left-RY,stick_left-RZ,stick_left-RW,stick_left-TX,stick_left-TY,stick_left-TZ,\n",
    "# stick_right-RX,stick_right-RY,stick_right-RZ,stick_right-RW,stick_right-TX,stick_right-TY,stick_right-TZ\n",
    "# and the parameters for that file for testing\n",
    "# Stick right\n",
    "# Rotation: wxyz, Position: xyz\n",
    "stick_right_inital_orientation = MyQuaternion(\n",
    "    df.iloc[0,:]['stick_right-RW'], \n",
    "    df.iloc[0,:]['stick_right-RX'], \n",
    "    df.iloc[0,:]['stick_right-RY'], \n",
    "    df.iloc[0,:]['stick_right-RZ'])\n",
    "stick_right_inital_position = vmath.Vector3(\n",
    "    df.iloc[0,:]['stick_right-TX'], \n",
    "    df.iloc[0,:]['stick_right-TY'], \n",
    "    df.iloc[0,:]['stick_right-TZ'])\n",
    "stick_right_pose = Pose(stick_right_inital_position, stick_right_inital_orientation)\n",
    "# Diabolo\n",
    "diabolo_inital_orientation = MyQuaternion(\n",
    "    df.iloc[0,:]['Diabolo-RW'], \n",
    "    df.iloc[0,:]['Diabolo-RX'], \n",
    "    df.iloc[0,:]['Diabolo-RY'], \n",
    "    df.iloc[0,:]['Diabolo-RZ'])\n",
    "diabolo_inital_position = vmath.Vector3(\n",
    "    df.iloc[0,:]['Diabolo-TX'], \n",
    "    df.iloc[0,:]['Diabolo-TY'], \n",
    "    df.iloc[0,:]['Diabolo-TZ'])\n",
    "diabolo_pose = Pose(diabolo_inital_position, diabolo_inital_orientation)\n",
    "# Stick left\n",
    "stick_left_inital_orientation = MyQuaternion(\n",
    "    df.iloc[0,:]['stick_left-RW'], \n",
    "    df.iloc[0,:]['stick_left-RX'], \n",
    "    df.iloc[0,:]['stick_left-RY'], \n",
    "    df.iloc[0,:]['stick_left-RZ'])\n",
    "stick_left_inital_position = vmath.Vector3(\n",
    "    df.iloc[0,:]['stick_left-TX'], \n",
    "    df.iloc[0,:]['stick_left-TY'], \n",
    "    df.iloc[0,:]['stick_left-TZ'])\n",
    "stick_left_pose = Pose(stick_left_inital_position, stick_left_inital_orientation)\n",
    "\n",
    "# initial_poses: PoseArray: diabolo, left, right\n",
    "initial_poses = PoseArray([diabolo_pose, stick_left_pose, stick_right_pose])\n",
    "\n",
    "rot_velocity = 58.010031855847146 # the approx starting value I got from my analysis\n",
    "\n",
    "trans_velocity = vmath.Vector3(0,0,0) # it looks like this is the default\n",
    "\n",
    "# pull velocity scale\n",
    "pv_pre_cap_scale = 0.13\n",
    "pv_post_cap_scale = 0.13\t\n",
    "pv_cap_scale = 0.07\n",
    "\n",
    "velocity_diffusion_factor = 0.9999\n",
    "time_step = 1/600\n",
    "caps_valid = False\n",
    "mass = 0.2 # kg\n",
    "axle_radius = 0.0065\n",
    "string_length = 1.58 # meters\n",
    "file_name = \"data.csv\"\n",
    "\n",
    "initial_state = DiaboloSimConfig(\n",
    "    initial_poses,\n",
    "    rot_velocity,\n",
    "    trans_velocity, \n",
    "    pv_pre_cap_scale, \n",
    "    pv_cap_scale,\n",
    "    pv_post_cap_scale,\n",
    "    velocity_diffusion_factor,\n",
    "    time_step,\n",
    "    caps_valid,\n",
    "    mass,\n",
    "    axle_radius,\n",
    "    string_length,\n",
    "    file_name\n",
    ")\n",
    "\n",
    "print(initial_state)"
   ]
  },
  {
   "cell_type": "code",
   "execution_count": 9,
   "metadata": {},
   "outputs": [],
   "source": [
    "def generate_stick_poses_from_df(df):\n",
    "    stick_right_poses = PoseArray([])\n",
    "    stick_left_poses = PoseArray([])\n",
    "    times = []\n",
    "    for i in range(len(df)):\n",
    "        row = df.iloc[i]\n",
    "        stick_right_pose = Pose(\n",
    "            vmath.Vector3(\n",
    "                row['stick_right-TX'],\n",
    "                row['stick_right-TY'],\n",
    "                row['stick_right-TZ']\n",
    "            ), MyQuaternion(\n",
    "                x = row['stick_right-RX'],\n",
    "                y = row['stick_right-RY'],\n",
    "                z = row['stick_right-RZ'],\n",
    "                w = row['stick_right-RW']\n",
    "            ))\n",
    "        stick_left_pose = Pose(\n",
    "            vmath.Vector3(\n",
    "                row['stick_left-TX'],\n",
    "                row['stick_left-TY'],\n",
    "                row['stick_left-TZ']\n",
    "            ), MyQuaternion(\n",
    "                x = row['stick_left-RX'],\n",
    "                y = row['stick_left-RY'],\n",
    "                z = row['stick_left-RZ'],\n",
    "                w = row['stick_left-RW']\n",
    "            ))\n",
    "        stick_right_poses.poses.append(stick_right_pose)\n",
    "        stick_left_poses.poses.append(stick_left_pose)\n",
    "        times.append((row['Frame'] - df.iloc[0]['Frame']) * time_step)\n",
    "    return stick_left_poses, stick_right_poses, times"
   ]
  },
  {
   "cell_type": "code",
   "execution_count": 10,
   "metadata": {},
   "outputs": [
    {
     "name": "stdout",
     "output_type": "stream",
     "text": [
      "+0.711 +0.515i +0.478j +0.020k [-0.30994626  0.75138733  0.49533548]\n"
     ]
    }
   ],
   "source": [
    "stick_left_poses, stick_right_poses, times = generate_stick_poses_from_df(df)\n",
    "\n",
    "steps = len(stick_left_poses.poses)\n",
    "planned_left_times = []\n",
    "planned_right_times = []\n",
    "for i in range(1, steps + 1):\n",
    "    planned_left_times.append(i * time_step)\n",
    "    planned_right_times.append(i * time_step)\n",
    "\n",
    "dp = DiaboloPredictor(initial_state)\n",
    "print(dp.initial_state_.initial_poses.poses[0])\n",
    "predicted_states = []\n",
    "# dp.constrain_to_2D_flag = True\n",
    "try:\n",
    "    dp.predict(stick_left_poses, stick_right_poses, planned_left_times, planned_right_times, predicted_states, True)\n",
    "except ValueError as e:\n",
    "    print(e)\n",
    "\n",
    "with open('output.csv', 'w') as f:\n",
    "    f.write(\"X,Y,Z,W\\n\")\n",
    "    for i in range(len(predicted_states)):\n",
    "        position = predicted_states[i].pose.position\n",
    "        rotational_velocity = predicted_states[i].rot_velocity\n",
    "        f.write(f\"{position.x},{position.y},{position.z},{rotational_velocity}\\n\")"
   ]
  },
  {
   "cell_type": "code",
   "execution_count": 11,
   "metadata": {},
   "outputs": [],
   "source": [
    "df_output = pd.read_csv('output.csv')"
   ]
  },
  {
   "cell_type": "code",
   "execution_count": 12,
   "metadata": {},
   "outputs": [
    {
     "name": "stdout",
     "output_type": "stream",
     "text": [
      "-0.309946259 -0.309946259\n",
      "-0.42867453 -0.7453831918488285\n",
      "-0.472774841 -0.6029739342282812\n",
      "-0.516531067 -0.6542768083983406\n",
      "-0.525895752 -0.3429917298888593\n",
      "-0.582484497 -0.0905861862357676\n",
      "-0.584849854 -0.0854448749168289\n",
      "-0.44197128300000005 -0.4045799613871766\n",
      "-0.350166229 -0.9546016841122096\n",
      "-0.363963501 -0.811373695527366\n",
      "-0.291703491 -0.6054717201511165\n",
      "-0.300489197 -0.5758037381732288\n",
      "-0.6580676879999999 -0.5528251332405592\n",
      "-0.538776245 -0.2136181693236326\n",
      "-0.505954193 -0.6882247986230673\n",
      "-0.47660611 -0.7174711878002655\n",
      "-0.478363068 -0.1514157905917018\n",
      "-0.5161536250000001 -1.2563615550989966\n",
      "-0.442107849 0.2238373082714366\n",
      "nan -0.2724500829198262\n"
     ]
    }
   ],
   "source": [
    "error = 0\n",
    "for i in range(min(len(df), len(df_output))):\n",
    "    if not np.isnan(df.iloc[i]['Diabolo-TX']) and not np.isnan(df_output.iloc[i]['X']):\n",
    "        error += df.iloc[i]['Diabolo-TX'] - df_output.iloc[i]['X']\n",
    "    if i %1000 == 0:\n",
    "        print(df.iloc[i]['Diabolo-TX'], df_output.iloc[i]['X'])"
   ]
  },
  {
   "cell_type": "code",
   "execution_count": 13,
   "metadata": {},
   "outputs": [],
   "source": [
    "pitch_angles = []\n",
    "offset_angles = []\n",
    "yaw_angles = []\n",
    "for i in range(len(df_full)):\n",
    "    line = df_full.iloc[i]\n",
    "    q = MyQuaternion(\n",
    "        x=line['Diabolo-RX'],\n",
    "        y=line['Diabolo-RY'],\n",
    "        z=line['Diabolo-RZ'],\n",
    "        w=line['Diabolo-RW'])\n",
    "\n",
    "    direction_vector = vmath.Vector3(q.rotate([0,0,1]))\n",
    "    horizontal_vector = vmath.Vector3(direction_vector[0], direction_vector[1], 0)\n",
    "    horizontal_vector = horizontal_vector.normalize()\n",
    "\n",
    "    pitch_angle = math.acos(direction_vector.dot(horizontal_vector))\n",
    "    if (direction_vector[2]<=0):\n",
    "        pitch_angle *= -1\n",
    "    pitch_angles.append(pitch_angle)\n",
    "\n",
    "    stick_right_vector = vmath.Vector3(\n",
    "        line['stick_right-TX'],\n",
    "        line['stick_right-TY'],\n",
    "        line['stick_right-TZ']\n",
    "    )\n",
    "    stick_left_vector = vmath.Vector3(\n",
    "        line['stick_left-TX'],\n",
    "        line['stick_left-TY'],\n",
    "        line['stick_left-TZ']\n",
    "    )\n",
    "\n",
    "    stick_diff_vector = stick_right_vector - stick_left_vector\n",
    "    stick_diff_vector = vmath.Vector3(stick_diff_vector[0], stick_diff_vector[1], 0)\n",
    "    stick_diff_vector = stick_diff_vector.normalize()\n",
    "\n",
    "    offset_angle = math.pi/2 - math.acos(stick_diff_vector.dot(horizontal_vector))\n",
    "    offset_angles.append(-offset_angle)\n",
    "    \n",
    "    yaw = math.atan2(q.rotation_matrix[1,0],q.rotation_matrix[0,0])\n",
    "    yaw_angles.append(yaw)"
   ]
  },
  {
   "cell_type": "code",
   "execution_count": 14,
   "metadata": {},
   "outputs": [
    {
     "data": {
      "text/plain": [
       "<matplotlib.legend.Legend at 0x12ed90bfa00>"
      ]
     },
     "execution_count": 14,
     "metadata": {},
     "output_type": "execute_result"
    },
    {
     "data": {
      "image/png": "[encoded data removed]",
      "text/plain": [
       "<Figure size 1440x360 with 1 Axes>"
      ]
     },
     "metadata": {
      "needs_background": "light"
     },
     "output_type": "display_data"
    }
   ],
   "source": [
    "smoothed_pitch_angles = savgol_filter(pitch_angles, 101, 5)\n",
    "x = smoothed_pitch_angles\n",
    "xi = np.arange(len(x))\n",
    "mask = np.isfinite(x)\n",
    "xfiltered_pitch = np.interp(xi, xi[mask], x[mask])\n",
    "plt.figure(figsize=(20,5))\n",
    "plt.plot(list(range(len(xfiltered_pitch))), xfiltered_pitch, label=\"Smoothed Pitch Angles and Interpolated\")\n",
    "\n",
    "smoothed_offset_angles = savgol_filter(offset_angles, 101, 5)\n",
    "x = smoothed_offset_angles\n",
    "xi = np.arange(len(x))\n",
    "mask = np.isfinite(x)\n",
    "xfiltered_offset = np.interp(xi, xi[mask], x[mask])\n",
    "plt.plot(list(range(len(xfiltered_offset))), xfiltered_offset, label=\"Smoothed Offset Angles and Interpolated\")\n",
    "\n",
    "plt.legend()"
   ]
  },
  {
   "cell_type": "code",
   "execution_count": 15,
   "metadata": {},
   "outputs": [],
   "source": [
    "change_in_pitch = []\n",
    "offset_angularspeed = []\n",
    "\n",
    "for i in range(len(df)):\n",
    "    time_index = i + 15000\n",
    "    change_in_pitch.append((xfiltered_pitch[time_index+1] - xfiltered_pitch[time_index])/(1))\n",
    "    offset_angularspeed.append(xfiltered_offset[time_index]/(df_output.iloc[i]['W']))\n"
   ]
  },
  {
   "cell_type": "code",
   "execution_count": 16,
   "metadata": {},
   "outputs": [
    {
     "data": {
      "text/plain": [
       "[<matplotlib.lines.Line2D at 0x12ed9a5efa0>]"
      ]
     },
     "execution_count": 16,
     "metadata": {},
     "output_type": "execute_result"
    },
    {
     "data": {
      "image/png": "[encoded data removed]",
      "text/plain": [
       "<Figure size 360x360 with 1 Axes>"
      ]
     },
     "metadata": {
      "needs_background": "light"
     },
     "output_type": "display_data"
    },
    {
     "data": {
      "image/png": "[encoded data removed]",
      "text/plain": [
       "<Figure size 360x360 with 1 Axes>"
      ]
     },
     "metadata": {
      "needs_background": "light"
     },
     "output_type": "display_data"
    }
   ],
   "source": [
    "plt.figure(figsize=(5,5))\n",
    "plt.plot(change_in_pitch)\n",
    "plt.figure(figsize=(5,5))\n",
    "plt.plot(offset_angularspeed)"
   ]
  },
  {
   "cell_type": "code",
   "execution_count": 17,
   "metadata": {},
   "outputs": [],
   "source": [
    "ratio = np.array(change_in_pitch)/np.array(offset_angularspeed)"
   ]
  },
  {
   "cell_type": "code",
   "execution_count": 18,
   "metadata": {},
   "outputs": [],
   "source": [
    "predicted_change_in_pitch = []\n",
    "predicted_pitch = [xfiltered_pitch[15000]]\n",
    "\n",
    "for i in range(len(df)):\n",
    "\n",
    "    ratio_offset_speed = xfiltered_offset[i+15000]/(df_output.iloc[i]['W'])\n",
    "    change_in_pitch_value = ratio_offset_speed * 0.0018583839918719272\n",
    "    predicted_change_in_pitch.append(change_in_pitch_value)\n",
    "    predicted_pitch.append(predicted_pitch[-1] + change_in_pitch_value)"
   ]
  },
  {
   "cell_type": "code",
   "execution_count": 19,
   "metadata": {},
   "outputs": [
    {
     "data": {
      "text/plain": [
       "[<matplotlib.lines.Line2D at 0x12edaf01a60>]"
      ]
     },
     "execution_count": 19,
     "metadata": {},
     "output_type": "execute_result"
    },
    {
     "data": {
      "image/png": "[encoded data removed]",
      "text/plain": [
       "<Figure size 432x288 with 1 Axes>"
      ]
     },
     "metadata": {
      "needs_background": "light"
     },
     "output_type": "display_data"
    }
   ],
   "source": [
    "plt.plot(xfiltered_pitch[15005: 34393])\n",
    "plt.plot(predicted_pitch)"
   ]
  },
  {
   "cell_type": "code",
   "execution_count": 20,
   "metadata": {},
   "outputs": [
    {
     "data": {
      "text/plain": [
       "19400"
      ]
     },
     "execution_count": 20,
     "metadata": {},
     "output_type": "execute_result"
    }
   ],
   "source": [
    "len(xfiltered_pitch[15000:34400])"
   ]
  },
  {
   "cell_type": "code",
   "execution_count": 21,
   "metadata": {},
   "outputs": [],
   "source": [
    "with open('output_pitch.csv', 'w') as f:\n",
    "    f.write(\"pitch,predicted_pitch\\n\")\n",
    "    for i in range(len(xfiltered_pitch[15000:34400])):\n",
    "        f.write(f\"{xfiltered_pitch[15000+i]},{predicted_pitch[i]}\\n\")"
   ]
  },
  {
   "cell_type": "code",
   "execution_count": 23,
   "metadata": {},
   "outputs": [],
   "source": [
    "yaw_angles = np.array(yaw_angles)\n",
    "threshold_array = yaw_angles > 0\n",
    "zero_one = []\n",
    "\n",
    "for i in range(len(threshold_array)-1):\n",
    "    if threshold_array[i] == 0 and threshold_array[i+1] == 1:\n",
    "        zero_one.append(i)\n",
    "\n",
    "periods = [zero_one[i+1] - zero_one[i] for i in range(len(zero_one)-1)]\n",
    "smoothed_periods = savgol_filter(periods, 101, 5)"
   ]
  },
  {
   "cell_type": "code",
   "execution_count": 24,
   "metadata": {},
   "outputs": [
    {
     "data": {
      "text/plain": [
       "[<matplotlib.lines.Line2D at 0x12edaf72ca0>]"
      ]
     },
     "execution_count": 24,
     "metadata": {},
     "output_type": "execute_result"
    },
    {
     "data": {
      "image/png": "[encoded data removed]",
      "text/plain": [
       "<Figure size 432x288 with 1 Axes>"
      ]
     },
     "metadata": {
      "needs_background": "light"
     },
     "output_type": "display_data"
    }
   ],
   "source": [
    "plt.plot(zero_one[158:915], 600/smoothed_periods[158:915])"
   ]
  },
  {
   "cell_type": "code",
   "execution_count": 33,
   "metadata": {},
   "outputs": [],
   "source": [
    "smoothed_angular_speed_range = 600/smoothed_periods[157:916]"
   ]
  },
  {
   "cell_type": "code",
   "execution_count": 34,
   "metadata": {},
   "outputs": [
    {
     "data": {
      "text/plain": [
       "759"
      ]
     },
     "execution_count": 34,
     "metadata": {},
     "output_type": "execute_result"
    }
   ],
   "source": [
    "len(smoothed_angular_speed_range)"
   ]
  },
  {
   "cell_type": "code",
   "execution_count": 39,
   "metadata": {},
   "outputs": [],
   "source": [
    "start = zero_one[157]\n",
    "end = 34400\n",
    "calculated_angular_speed = []\n",
    "time_indices = zero_one[157:916]\n",
    "i = 0\n",
    "while start < end:\n",
    "    if i >= len(smoothed_angular_speed_range) - 1:\n",
    "        calculated_angular_speed.append(smoothed_angular_speed_range[-1])\n",
    "    elif start < time_indices[i+1]:\n",
    "        calculated_angular_speed.append(smoothed_angular_speed_range[i])\n",
    "    else:\n",
    "        i+=1\n",
    "        calculated_angular_speed.append(smoothed_angular_speed_range[i])\n",
    "    start+=1"
   ]
  },
  {
   "cell_type": "code",
   "execution_count": 47,
   "metadata": {},
   "outputs": [],
   "source": [
    "calculated_angular_speed = calculated_angular_speed[4:]"
   ]
  },
  {
   "cell_type": "code",
   "execution_count": 48,
   "metadata": {},
   "outputs": [],
   "source": [
    "with open('calculated_angular_speed.csv', 'w') as f:\n",
    "    f.write(\"W\\n\")\n",
    "    for i in range(len(calculated_angular_speed)):\n",
    "        f.write(f\"{calculated_angular_speed[i]}\\n\")"
   ]
  },
  {
   "cell_type": "code",
   "execution_count": null,
   "metadata": {},
   "outputs": [],
   "source": []
  }
 ],
 "metadata": {
  "interpreter": {
   "hash": "282f798ffd5bf9438d20da4c6cb449deb0ab293f45a5c27f50a24aa24ccf9c9f"
  },
  "kernelspec": {
   "display_name": "Python 3.8.12 ('ML')",
   "language": "python",
   "name": "python3"
  },
  "language_info": {
   "codemirror_mode": {
    "name": "ipython",
    "version": 3
   },
   "file_extension": ".py",
   "mimetype": "text/x-python",
   "name": "python",
   "nbconvert_exporter": "python",
   "pygments_lexer": "ipython3",
   "version": "3.8.11"
  },
  "orig_nbformat": 4
 },
 "nbformat": 4,
 "nbformat_minor": 2
}
